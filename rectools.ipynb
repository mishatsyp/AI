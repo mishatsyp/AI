{
  "nbformat": 4,
  "nbformat_minor": 0,
  "metadata": {
    "colab": {
      "provenance": []
    },
    "kernelspec": {
      "name": "python3",
      "display_name": "Python 3"
    },
    "language_info": {
      "name": "python"
    }
  },
  "cells": [
    {
      "cell_type": "markdown",
      "source": [
        "# Resys(rectools) and etc."
      ],
      "metadata": {
        "id": "uoeh4EON2mR2"
      }
    },
    {
      "cell_type": "code",
      "execution_count": null,
      "metadata": {
        "id": "d_kKn1P02bpG"
      },
      "outputs": [],
      "source": [
        "https://rectools.readthedocs.io/en/stable/ # documentation\n",
        "\n",
        "# features ingineering\n",
        "https://fennel.ai/blog/feature-engineering-for-recommendation/\n",
        "https://fennel.ai/blog/feature-engineering-for-recommendation-031/\n",
        "\n",
        "# catboost tutorial\n",
        "https://github.com/catboost/tutorials/blob/master/python_tutorial.ipynb\n",
        "\n",
        "# rectools habr\n",
        "https://habr.com/ru/articles/773126/\n",
        "\n",
        "# rectools documentation\n",
        "https://github.com/MobileTeleSystems/RecTools/tree/main"
      ]
    }
  ]
}