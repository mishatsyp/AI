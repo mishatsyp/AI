{
  "nbformat": 4,
  "nbformat_minor": 0,
  "metadata": {
    "colab": {
      "provenance": []
    },
    "kernelspec": {
      "name": "python3",
      "display_name": "Python 3"
    },
    "language_info": {
      "name": "python"
    }
  },
  "cells": [
    {
      "cell_type": "code",
      "execution_count": null,
      "metadata": {
        "id": "_HMJp_lIJrXd"
      },
      "outputs": [],
      "source": [
        "from sklearn.model_selection import KFold, cross_val_score\n",
        "from catboost import CatBoostClassifier\n",
        "from sklearn.datasets import load_breast_cancer\n",
        "import numpy as np\n",
        "\n",
        "# Загружаем набор данных\n",
        "data = load_breast_cancer()\n",
        "X, y = data.data, data.target\n",
        "\n",
        "# Создаем модель CatBoostClassifier с базовыми параметрами\n",
        "model = CatBoostClassifier(iterations=100, depth=6, learning_rate=0.1, verbose=0)\n",
        "\n",
        "# Настраиваем K-Fold кросс-валидацию с 5 фолдами\n",
        "kf = KFold(n_splits=5, shuffle=True, random_state=42)\n",
        "\n",
        "# Используем кросс-валидацию для оценки модели по метрике accuracy\n",
        "scores = cross_val_score(model, X, y, scoring='accuracy', cv=kf)\n",
        "\n",
        "# Выводим результат: средняя accuracy по фолдам\n",
        "print(f\"Средняя точность (accuracy) по фолдам: {np.mean(scores):.4f}\")"
      ]
    }
  ]
}